{
 "cells": [
  {
   "cell_type": "markdown",
   "metadata": {},
   "source": [
    "Acá no tuve tiempo en la selección de puntos para documentacion personal"
   ]
  }
 ],
 "metadata": {
  "interpreter": {
   "hash": "15bd8b0d76cb19a4e3f7b715abce1445ba3ca39cbf13217c22c8c6458797609c"
  },
  "kernelspec": {
   "display_name": "Python 3.10.2 64-bit (windows store)",
   "language": "python",
   "name": "python3"
  },
  "language_info": {
   "name": "python",
   "version": "3.10.2"
  },
  "orig_nbformat": 4
 },
 "nbformat": 4,
 "nbformat_minor": 2
}
