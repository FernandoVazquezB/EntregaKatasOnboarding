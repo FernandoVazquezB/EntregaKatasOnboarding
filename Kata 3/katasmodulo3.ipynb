{
 "cells": [
  {
   "cell_type": "markdown",
   "metadata": {},
   "source": [
    "# Ejercicio 1:"
   ]
  },
  {
   "cell_type": "code",
   "execution_count": 13,
   "metadata": {},
   "outputs": [
    {
     "name": "stdout",
     "output_type": "stream",
     "text": [
      "Un asteroide se acerca demasiado rápido con una velocidad de 84km/s!!\n"
     ]
    }
   ],
   "source": [
    "velocidadasteroide = 84\n",
    "if velocidadasteroide > 25:\n",
    "    print(\"Un asteroide se acerca demasiado rápido con una velocidad de \" + str(velocidadasteroide) + \"km/s!!\")\n",
    "else:\n",
    "    print(\"Ten un buen dia hoy, no hay peligro alguno\")"
   ]
  },
  {
   "cell_type": "markdown",
   "metadata": {},
   "source": [
    "# Ejercicio 2:"
   ]
  },
  {
   "cell_type": "code",
   "execution_count": 20,
   "metadata": {},
   "outputs": [
    {
     "name": "stdout",
     "output_type": "stream",
     "text": [
      "Sigue con tu dia\n"
     ]
    }
   ],
   "source": [
    "velocidadasteroide = 19\n",
    "if velocidadasteroide > 20:\n",
    "    print(\"Mira hacia el cielo, se puede ver un rayo de luz!\")\n",
    "elif velocidadasteroide == 20:\n",
    "    print(\"Mira hacia el cielo, se puede ver un rayo de luz!\")\n",
    "else:\n",
    "    print(\"Sigue con tu dia\")"
   ]
  },
  {
   "cell_type": "markdown",
   "metadata": {},
   "source": [
    "# Ejercicio 3:"
   ]
  },
  {
   "cell_type": "code",
   "execution_count": 19,
   "metadata": {},
   "outputs": [
    {
     "name": "stdout",
     "output_type": "stream",
     "text": [
      "Mira hacia el cielo, se puede ver un rayo de luz!\n"
     ]
    }
   ],
   "source": [
    "velocidadasteroide = 25\n",
    "tamanoasteroide = 40\n",
    "if velocidadasteroide > 25 and tamanoasteroide > 25:\n",
    "    print(\"Un asteroide viene hacia la Tierra y es peligroso, refugiate!!\")\n",
    "elif velocidadasteroide >= 20:\n",
    "    print(\"Mira hacia el cielo, se puede ver un rayo de luz!\")\n",
    "elif tamanoasteroide < 25:\n",
    "    print(\"Ten um buen día!\")\n",
    "else:\n",
    "    print(\"Ten un buen día!\")"
   ]
  }
 ],
 "metadata": {
  "interpreter": {
   "hash": "669f5abd92f1a410df15b0643b9f42360e277a412fc08ae8bc7d7911cf7e8f3d"
  },
  "kernelspec": {
   "display_name": "Python 3.10.2 64-bit",
   "language": "python",
   "name": "python3"
  },
  "language_info": {
   "codemirror_mode": {
    "name": "ipython",
    "version": 3
   },
   "file_extension": ".py",
   "mimetype": "text/x-python",
   "name": "python",
   "nbconvert_exporter": "python",
   "pygments_lexer": "ipython3",
   "version": "3.10.2"
  },
  "orig_nbformat": 4
 },
 "nbformat": 4,
 "nbformat_minor": 2
}
