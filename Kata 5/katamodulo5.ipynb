{
 "cells": [
  {
   "cell_type": "markdown",
   "metadata": {},
   "source": [
    "# Ejercicio 1"
   ]
  },
  {
   "cell_type": "code",
   "execution_count": 7,
   "metadata": {},
   "outputs": [],
   "source": [
    "#Declarar variables\n",
    "\n",
    "primerplaneta = 149597870.\n",
    "segundoplaneta = 778547200"
   ]
  },
  {
   "cell_type": "code",
   "execution_count": 8,
   "metadata": {},
   "outputs": [
    {
     "name": "stdout",
     "output_type": "stream",
     "text": [
      "628949330.0\n",
      "390577533.93\n"
     ]
    }
   ],
   "source": [
    "distanciaenkm = segundoplaneta - primerplaneta\n",
    "print(distanciaenkm)\n",
    "distanciamillas = distanciaenkm * 0.621\n",
    "print(distanciamillas)"
   ]
  },
  {
   "cell_type": "markdown",
   "metadata": {},
   "source": [
    "# Ejercicio 2"
   ]
  },
  {
   "cell_type": "markdown",
   "metadata": {},
   "source": [
    "# Distancias\n",
    "\n",
    "| Planeta  | Distancia al sol |\n",
    "| ------- | ----------------- |\n",
    "| Mercurio | 57900000          |\n",
    "| Venus   | 108200000         |\n",
    "| Tierra   | 149600000         |\n",
    "| Marte    | 227900000         |\n",
    "| Júpiter | 778600000         |\n",
    "| Saturno  | 1433500000        |\n",
    "| Urano  | 2872500000        |\n",
    "| Neptuno | 4495100000        |"
   ]
  },
  {
   "cell_type": "code",
   "execution_count": 19,
   "metadata": {},
   "outputs": [],
   "source": [
    "# Pedir datos\n",
    "primerdato = input(\"Introduce la primer distancia del sol del primer planeta en km\")\n",
    "segundodato = input(\"Introduce la primer distancia del sol del segundo planeta en km\")"
   ]
  },
  {
   "cell_type": "code",
   "execution_count": 20,
   "metadata": {},
   "outputs": [],
   "source": [
    "# Se convierte las cadenas a entero\n",
    "\n",
    "primerdato = int(primerdato)\n",
    "segundodato = int(segundodato)"
   ]
  },
  {
   "cell_type": "code",
   "execution_count": 21,
   "metadata": {},
   "outputs": [
    {
     "name": "stdout",
     "output_type": "stream",
     "text": [
      "4437200000\n",
      "2755501200.0\n"
     ]
    }
   ],
   "source": [
    "# Calculo\n",
    "distkm = segundodato - primerdato\n",
    "print(distkm)\n",
    "\n",
    "# Convertir de KM a Millas\n",
    "distmilla = distkm * 0.621\n",
    "print(abs(distmilla))"
   ]
  }
 ],
 "metadata": {
  "interpreter": {
   "hash": "15bd8b0d76cb19a4e3f7b715abce1445ba3ca39cbf13217c22c8c6458797609c"
  },
  "kernelspec": {
   "display_name": "Python 3.10.2 64-bit (windows store)",
   "language": "python",
   "name": "python3"
  },
  "language_info": {
   "codemirror_mode": {
    "name": "ipython",
    "version": 3
   },
   "file_extension": ".py",
   "mimetype": "text/x-python",
   "name": "python",
   "nbconvert_exporter": "python",
   "pygments_lexer": "ipython3",
   "version": "3.10.2"
  },
  "orig_nbformat": 4
 },
 "nbformat": 4,
 "nbformat_minor": 2
}
